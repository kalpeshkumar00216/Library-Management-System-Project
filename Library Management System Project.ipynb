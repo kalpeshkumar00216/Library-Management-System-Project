{
 "cells": [
  {
   "cell_type": "code",
   "execution_count": 43,
   "id": "85d10737-9900-451a-82e5-dd2e9d5c2c9e",
   "metadata": {},
   "outputs": [
    {
     "name": "stdout",
     "output_type": "stream",
     "text": [
      "Available books in the library:\n",
      "1984 by George orwell\n",
      "To Kill a Mockingbird by Harper Lee\n",
      "\n",
      "Available books in the library:\n",
      "Harry Potter by J K Rowling\n",
      "1984 by George orwell\n",
      "To Kill a Mockingbird by Harper Lee\n"
     ]
    }
   ],
   "source": [
    "class Book:\n",
    "    def __init__(self,title,author):\n",
    "        self.title = title\n",
    "        self.author = author\n",
    "        self.available = True\n",
    "        \n",
    "    def borrow(self):\n",
    "        if self.available:\n",
    "            self.available = False\n",
    "            return f\"{self.title} by {self.author} has been borrowed.\"\n",
    "        else:\n",
    "            return f\"Sorry, {self.title} by {self.author} is not available\"\n",
    "\n",
    "    def return_to_library(self):\n",
    "        if not self.available :\n",
    "            self.available = True\n",
    "            return f\"Thank you for returning {self.title} by {self.author}\"\n",
    "        else:\n",
    "            return f\"{self.title} by {self.author} is already available\"\n",
    "\n",
    "class Library:\n",
    "    def __init__(self):\n",
    "        self.books = []\n",
    "\n",
    "    def add_book(self,book):\n",
    "        self.books.append(book)\n",
    "\n",
    "    def display_books(self):\n",
    "        available_books =[f\"{book.title} by {book.author}\" for book in self.books if book.available]\n",
    "        if available_books:\n",
    "            return \"Available books in the library:\\n\" + \"\\n\".join(available_books)\n",
    "        else:\n",
    "            return \"No books available in the library\"\n",
    "\n",
    "    def lend_book(self,title):\n",
    "        for book in self.books:\n",
    "            if book.title == title and book.available:\n",
    "                return book.borrow()\n",
    "        return f\"Sorry, {title} is not available in the library\"\n",
    "\n",
    "    def return_book(self,title):\n",
    "        for book in self.books:\n",
    "            if book.title == title and not book.available:\n",
    "                return book.return_to_library()\n",
    "        return f\"{title} was not borrowed from this library\"\n",
    "\n",
    "\n",
    "\n",
    "book1 = Book(\"Harry Potter\",\"J K Rowling\")\n",
    "book2 = Book(\"1984\",\"George orwell\")\n",
    "book3 = Book(\"To Kill a Mockingbird\",\"Harper Lee\")\n",
    "\n",
    "library = Library()\n",
    "library.add_book(book1)\n",
    "library.add_book(book2)\n",
    "library.add_book(book3)\n",
    "\n",
    "library.lend_book(\"Harry Potter\")\n",
    "\n",
    "print(library.display_books())\n",
    "print()\n",
    "library.return_book(\"Harry Potter\")\n",
    "print(library.display_books())"
   ]
  },
  {
   "cell_type": "code",
   "execution_count": null,
   "id": "75e254d9-d1ea-452d-98e4-79672dad9301",
   "metadata": {},
   "outputs": [],
   "source": []
  }
 ],
 "metadata": {
  "kernelspec": {
   "display_name": "Python 3 (ipykernel)",
   "language": "python",
   "name": "python3"
  },
  "language_info": {
   "codemirror_mode": {
    "name": "ipython",
    "version": 3
   },
   "file_extension": ".py",
   "mimetype": "text/x-python",
   "name": "python",
   "nbconvert_exporter": "python",
   "pygments_lexer": "ipython3",
   "version": "3.13.2"
  }
 },
 "nbformat": 4,
 "nbformat_minor": 5
}
